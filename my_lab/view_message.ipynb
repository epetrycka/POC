{
 "cells": [
  {
   "cell_type": "markdown",
   "id": "9fa26935",
   "metadata": {},
   "source": [
    "Ukrywanie obrazu:"
   ]
  },
  {
   "cell_type": "code",
   "execution_count": null,
   "id": "723a4b04",
   "metadata": {},
   "outputs": [],
   "source": [
    "import cv2\n",
    "import numpy as np\n",
    "import matplotlib.pyplot as plt\n",
    "\n",
    "img = cv2.imread(\"wiadomosc.bmp\", cv2.IMREAD_GRAYSCALE)\n",
    "plt.imshow(img, \"gray\")\n",
    "plt.show()\n",
    "\n",
    "def show_binary_hist(img):\n",
    "    hist = cv2.calcHist([img], [0], None, [256], [0, 255])\n",
    "    hist_binary = (hist > 0).astype(int)\n",
    "    print(np.unique(img))\n",
    "    plt.plot(hist_binary)\n",
    "    plt.grid()\n",
    "    plt.show()\n",
    "\n",
    "show_binary_hist(img)\n",
    "edges = cv2.Laplacian(img, cv2.CV_8U, ksize=3)\n",
    "edges = cv2.convertScaleAbs(edges)\n",
    "\n",
    "background_gray = 127\n",
    "edge_gray = 128\n",
    "\n",
    "secret = np.full_like(img, background_gray, dtype=np.uint8)\n",
    "secret[edges > 0] = edge_gray\n",
    "\n",
    "plt.imshow(secret, cmap='gray', vmin=0, vmax=255)\n",
    "plt.title(\"Obrysowane krawędzie na szarym tle\")\n",
    "plt.axis('off')\n",
    "plt.show()\n",
    "\n",
    "cv2.imwrite(\"secret.bmp\", secret)\n",
    "show_binary_hist(secret)\n",
    "\n",
    "h = secret.shape[0]\n",
    "w = secret.shape[1]\n",
    "\n",
    "def draw_heart(img, center, size=20, color=0):\n",
    "    x, y = center\n",
    "    cv2.circle(img, (x - size//2, y - size//2), size//2, color, -1)\n",
    "    cv2.circle(img, (x + size//2, y - size//2), size//2, color, -1)\n",
    "    pts = np.array([[x - size, y - size//4], [x + size, y - size//4], [x, y + size]], np.int32)\n",
    "    cv2.fillPoly(img, [pts], color)\n",
    "\n",
    "draw_heart(secret, center=(w-30, 30), size=20, color=0)\n",
    "draw_heart(secret, center=(30, 30), size=20, color=255)\n",
    "\n",
    "plt.imshow(secret, cmap='gray', label=\"Lmao\")\n",
    "plt.axis('off')\n",
    "plt.show()\n",
    "\n",
    "show_binary_hist(secret)\n",
    "cv2.imwrite(\"secret_with_hearts.bmp\", secret)"
   ]
  },
  {
   "cell_type": "markdown",
   "id": "e29e76c5",
   "metadata": {},
   "source": [
    "Odkrywanie obrazu:"
   ]
  },
  {
   "cell_type": "code",
   "execution_count": null,
   "id": "d0880a72",
   "metadata": {},
   "outputs": [],
   "source": []
  }
 ],
 "metadata": {
  "kernelspec": {
   "display_name": "venv",
   "language": "python",
   "name": "python3"
  },
  "language_info": {
   "codemirror_mode": {
    "name": "ipython",
    "version": 3
   },
   "file_extension": ".py",
   "mimetype": "text/x-python",
   "name": "python",
   "nbconvert_exporter": "python",
   "pygments_lexer": "ipython3",
   "version": "3.12.8"
  }
 },
 "nbformat": 4,
 "nbformat_minor": 5
}
