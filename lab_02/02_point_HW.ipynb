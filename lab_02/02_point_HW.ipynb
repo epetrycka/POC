{
  "cells": [
    {
      "cell_type": "markdown",
      "metadata": {
        "collapsed": false,
        "id": "m5Q2hnDC3NuL"
      },
      "source": [
        "# Zadanie domowe\n",
        "\n",
        "W przypadku obrazów w odcieniach szarości pojedynczy piksel z zakresu [0; 255] reprezentowany jest jako 8-bitowa liczba bez znaku.\n",
        "Pewnym rozszerzeniem analizy sposobu reprezentacji obrazu może być następujący eksperyment.\n",
        "Załóżmy, że z każdego z 8 bitów możemy stworzyć pojedynczy obraz binarny (ang. _bit-plane slicing_).\n",
        "Dla obrazka _100zloty.jpg_ (https://raw.githubusercontent.com/vision-agh/poc_sw/master/02_Point/100zloty.jpg) stwórz 8 obrazów, z których każdy powinien zawierać jedną płaszczyznę bitową.\n",
        "Podpowiedź $-$ warto sprawdzić, jak realizuje się bitowe operacje logiczne.\n",
        "Zastosowanie takiej dekompozycji obrazu pozwala na analizę ,,ważności'' poszczególnych bitów.\n",
        "Jest to użyteczne w kwantyzacji, ale także w kompresji.\n",
        "\n",
        "W drugim etapie zadania proszę spróbować odtworzyć obraz oryginalny z mniejszej liczby obrazów binarnych.\n",
        "Warto zacząć od dwóch najbardziej znaczących bitów, a później dodawać kolejne.\n",
        "Należy utworzyć co najmniej trzy wersje zrekonstruowanych obrazów.\n",
        "Podpowiedź $-$ rekonstrukcja obrazu to mnożenie przez odpowiednią potęgę liczby 2 (przesunięcie bitowe) oraz dodawanie."
      ]
    },
    {
      "cell_type": "code",
      "execution_count": null,
      "metadata": {
        "id": "tsKtFztv4T2l"
      },
      "outputs": [],
      "source": [
        "import cv2\n",
        "import os\n",
        "import requests\n",
        "import matplotlib.pyplot as plt\n",
        "\n",
        "url = 'https://raw.githubusercontent.com/vision-agh/poc_sw/master/02_Point/'\n",
        "fileName = '100zloty.jpg'\n",
        "if not os.path.exists(fileName) :\n",
        "    r = requests.get(url + fileName, allow_redirects=True)\n",
        "    open(fileName, 'wb').write(r.content)\n",
        "\n",
        "sto = cv2.imread(\"100zloty.jpg\", cv2.IMREAD_GRAYSCALE)\n",
        "plt.imshow(sto)\n",
        "plt.axis(\"off\")\n",
        "plt.show()"
      ]
    },
    {
      "cell_type": "code",
      "execution_count": null,
      "metadata": {},
      "outputs": [],
      "source": [
        "bit_position = [0, 1, 2, 3, 4, 5, 6, 7]\n",
        "images = []\n",
        "\n",
        "for pos in bit_position:\n",
        "    img = ((sto >> pos) & 1).astype('uint8')\n",
        "    images.append(img)\n",
        "    plt.imshow(img)\n",
        "    plt.axis(\"off\")\n",
        "    plt.suptitle(f\"Bit: {pos}\")\n",
        "    plt.show()"
      ]
    },
    {
      "cell_type": "code",
      "execution_count": null,
      "metadata": {},
      "outputs": [],
      "source": [
        "base = images[7] * 2**7 + images[6] * 2**6\n",
        "\n",
        "plt.imshow(base)\n",
        "plt.axis(\"off\")\n",
        "plt.suptitle(f\"Bit: {pos}\")\n",
        "plt.show()"
      ]
    },
    {
      "cell_type": "code",
      "execution_count": null,
      "metadata": {},
      "outputs": [],
      "source": [
        "cases = [ [7, 6, 5, 2, 4], [7, 6, 1, 3, 5], [7, 1, 2], [1, 6], [7, 5, 4, 3], [7, 6, 5, 4, 3, 2, 1]]\n",
        "\n",
        "for case in cases:\n",
        "    new = 0\n",
        "    for num in case:\n",
        "        new += images[num] * 2**num\n",
        "    plt.imshow(new)\n",
        "    plt.axis(\"off\")\n",
        "    plt.suptitle(f\"Case: {case}\")\n",
        "    plt.show()"
      ]
    }
  ],
  "metadata": {
    "colab": {
      "provenance": []
    },
    "kernelspec": {
      "display_name": "venv",
      "language": "python",
      "name": "python3"
    },
    "language_info": {
      "codemirror_mode": {
        "name": "ipython",
        "version": 3
      },
      "file_extension": ".py",
      "mimetype": "text/x-python",
      "name": "python",
      "nbconvert_exporter": "python",
      "pygments_lexer": "ipython3",
      "version": "3.12.8"
    }
  },
  "nbformat": 4,
  "nbformat_minor": 0
}
