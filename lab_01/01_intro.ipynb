{
  "cells": [
    {
      "cell_type": "markdown",
      "metadata": {
        "id": "7vMPJPonERJg"
      },
      "source": [
        "W ramach kursu będziemy wykorzystywać głównie bibliotekę OpenCV (Open Computer Vision Library).\n",
        "W trakcie niniejszego ćwiczenia zapoznamy się z podstawowymi funkcjonalnościami: wczytaniami, zapisywaniem, konwersją do inne przestrzeni barw.\n",
        "Zaznajomimy się również z Jupyter Notebook."
      ]
    },
    {
      "cell_type": "markdown",
      "metadata": {
        "id": "e4zAaB1sERJi"
      },
      "source": [
        "Wczytywanie obrazów z wykorzystaniem OpenCV.\n",
        "1. Zaimportuj bibliotekę OpenCV:\n",
        "        `import cv2`\n",
        "1. Zaimportuj bibliotekę pyplot z matplotlib jako plt:\n",
        "        `from matplotlib import pyplot as plt`\n",
        "1. Wygodną opcją jest możliwość pobierania danych (obrazów, ale też np. baz danych) z sieci.\n",
        "   Eliminuje to konieczność pobierania danych np. z Moodle oraz czyni uzupełniony Notebook \"samowystarczalnym\" - wystarczy go uruchomić.\n",
        "   * zaimportuj bibliotekę os `import os`\n",
        "   * zaimportuj bibliotekę request `import requests`\n",
        "   * stwórz zmienne na adres pobieranego pliku (*url*) i samą jego nazwę (*fileName*)\n",
        "   * sprawdź, czy taki plik istnieje (unikniemy wielokrotnego pobierania tych samych danych)\n",
        "        `if not os.path.exists(fileName) :`\n",
        "   * pobierz plik: `r = requests.get(url + fileName, allow_redirects=True)`\n",
        "   * zapisz na dysku: `open(fileName, 'wb').write(r.content)`\n",
        "\n",
        "1. Wykorzystując polecenie *imread* wczytaj obraz *mandril.jpg*\n",
        "1. Wyświetl obraz wykorzystując bibliotekę *pyplot*\n",
        "        plt.imshow(I)\n",
        "        plt.xticks([]), plt.yticks([])\n",
        "        plt.show()\n",
        "1. Jeśli ktoś nie wie jak powinien wyglądać mandryl, to proszę podglądnąć obraz na GitHub lub w sprawdzić w Interencie.\n",
        "   Przyczyną problemu jest sposób w jaki funkcja `imread` z OpenCV odczytuje obraz (BGR, zamiast RGB).\n",
        "   Obrazom kolorowym będzie poświęcone odrębne ćwiczenie, także nie będziemy w tym miejscu rozwijać tego wątku.\n",
        "1. W celu poprawnego wyświetlenia należy dokonać konwersji koloru z BGR na RGB.\n",
        "        I = cv2.cvtColor(I, cv2.COLOR_BGR2RGB)\n",
        "1. Dla porządku warto dodać, że w OpenCV do wyświetlania domyślnie wykorzystuje się funkcję `imshow`.\n",
        "   Jednakże w przypadku Jupyter Notebook to rozwiązanie ma pewne wady i dlatego nie będziemy jej używać.\n",
        "   Natomiast jeśli ktoś pracuje w \"czystym\" Python, to jest to na pewno równoważna funkcjonalność.\n"
      ]
    },
    {
      "cell_type": "code",
      "execution_count": null,
      "metadata": {
        "id": "iALBqN0tERJj"
      },
      "outputs": [],
      "source": [
        "import cv2\n",
        "import os\n",
        "from matplotlib import pyplot as plt\n",
        "import requests\n",
        "\n",
        "url = 'https://raw.githubusercontent.com/vision-agh/poc_sw/master/01_Intro/'\n",
        "fileName = 'mandril.jpg'\n",
        "if not os.path.exists(fileName) :\n",
        "    r = requests.get(url + fileName, allow_redirects=True)\n",
        "    open(fileName, 'wb').write(r.content)"
      ]
    },
    {
      "cell_type": "code",
      "execution_count": null,
      "metadata": {},
      "outputs": [],
      "source": [
        "image_1 = cv2.imread(filename='mandril.jpg')\n",
        "plt.imshow(image_1)\n",
        "plt.show()\n",
        "\n",
        "image_2 = cv2.cvtColor(src=image_1, code=cv2.COLOR_BGR2RGB)\n",
        "plt.imshow(image_2)\n",
        "plt.show()"
      ]
    },
    {
      "cell_type": "markdown",
      "metadata": {
        "id": "Rn0dnRNmERJk"
      },
      "source": [
        "W praktycznych rozważaniach często analizuje się obrazy w odcieniach szarości (ang. *grayscale*).\n",
        "Do konwersji służy znana już funkcja `cvtColor` tylko tym razem z parametrem `cv2.COLOR_RGB2GRAY`.\n",
        "Proszę spróbować wyświetlić obraz.\n",
        "Może okazać się, że nadal jest kolorowy, choć inaczej.\n",
        "Dlaczego tak się dzieje zostanie obszerniej wyjaśnione pod koniec ćwiczenia.\n",
        "Na razie należy dodać polecenie `plt.gray()` przed `plt.show`.\n"
      ]
    },
    {
      "cell_type": "code",
      "execution_count": null,
      "metadata": {
        "id": "Ce3D-FtUERJk"
      },
      "outputs": [],
      "source": [
        "image_gray = cv2.cvtColor(src=image_2, code=cv2.COLOR_RGB2GRAY)\n",
        "plt.imshow(image_gray)\n",
        "plt.gray()\n",
        "plt.show()"
      ]
    },
    {
      "cell_type": "markdown",
      "metadata": {
        "id": "K-gRi3RiERJk"
      },
      "source": [
        "Czasami konieczne jest zapisanie przetworzonego obrazu.\n",
        "Służy do tego funkcja `cv2.imwrite`.\n",
        "Proszę zapisać szarą wersję mandryla w formacie *png*.\n",
        "Warto sprawdzić, czy obraz zapisał się poprawnie tj. otworzyć go w aplikacji do przeglądania obrazów."
      ]
    },
    {
      "cell_type": "code",
      "execution_count": null,
      "metadata": {
        "id": "gTW57GK_ERJl"
      },
      "outputs": [],
      "source": [
        "_ = cv2.imwrite(filename='mandril.png', img=image_gray)"
      ]
    },
    {
      "cell_type": "markdown",
      "metadata": {
        "id": "JgUzYIefERJl"
      },
      "source": [
        "Obraz w skali szarości możemy traktować jako dwuwymiarową funkcję $L(x,y)$, gdzie $x$, $y$ to współrzędne piksela, a $L(x,y)$ poziom jasności (najczęściej [0;255] - zapis na 8-bitach, typ *unsigned int*).\n",
        "Wyświetl obraz mandryl jako funkcję dwuwymiarową (uwaga - to chwilę się liczy):\n"
      ]
    },
    {
      "cell_type": "code",
      "execution_count": 5,
      "metadata": {
        "id": "ySHP0mkoERJl"
      },
      "outputs": [
        {
          "ename": "KeyboardInterrupt",
          "evalue": "",
          "output_type": "error",
          "traceback": [
            "\u001b[31m---------------------------------------------------------------------------\u001b[39m",
            "\u001b[31mKeyboardInterrupt\u001b[39m                         Traceback (most recent call last)",
            "\u001b[36mCell\u001b[39m\u001b[36m \u001b[39m\u001b[32mIn[5]\u001b[39m\u001b[32m, line 15\u001b[39m\n\u001b[32m     11\u001b[39m ax.plot_surface(xx, yy, IG ,rstride=\u001b[32m1\u001b[39m, cstride=\u001b[32m1\u001b[39m, cmap=plt.get_cmap(\u001b[33m'\u001b[39m\u001b[33mgray\u001b[39m\u001b[33m'\u001b[39m),\n\u001b[32m     12\u001b[39m         linewidth=\u001b[32m0\u001b[39m)\n\u001b[32m     14\u001b[39m \u001b[38;5;66;03m# show it\u001b[39;00m\n\u001b[32m---> \u001b[39m\u001b[32m15\u001b[39m \u001b[43mplt\u001b[49m\u001b[43m.\u001b[49m\u001b[43mshow\u001b[49m\u001b[43m(\u001b[49m\u001b[43m)\u001b[49m\n",
            "\u001b[36mFile \u001b[39m\u001b[32mc:\\Users\\User\\OneDrive\\Dokumenty\\Przetwarzanie Obrazów Cyfrowych\\venv\\Lib\\site-packages\\matplotlib\\pyplot.py:614\u001b[39m, in \u001b[36mshow\u001b[39m\u001b[34m(*args, **kwargs)\u001b[39m\n\u001b[32m    570\u001b[39m \u001b[38;5;250m\u001b[39m\u001b[33;03m\"\"\"\u001b[39;00m\n\u001b[32m    571\u001b[39m \u001b[33;03mDisplay all open figures.\u001b[39;00m\n\u001b[32m    572\u001b[39m \n\u001b[32m   (...)\u001b[39m\u001b[32m    611\u001b[39m \u001b[33;03mexplicitly there.\u001b[39;00m\n\u001b[32m    612\u001b[39m \u001b[33;03m\"\"\"\u001b[39;00m\n\u001b[32m    613\u001b[39m _warn_if_gui_out_of_main_thread()\n\u001b[32m--> \u001b[39m\u001b[32m614\u001b[39m \u001b[38;5;28;01mreturn\u001b[39;00m \u001b[43m_get_backend_mod\u001b[49m\u001b[43m(\u001b[49m\u001b[43m)\u001b[49m\u001b[43m.\u001b[49m\u001b[43mshow\u001b[49m\u001b[43m(\u001b[49m\u001b[43m*\u001b[49m\u001b[43margs\u001b[49m\u001b[43m,\u001b[49m\u001b[43m \u001b[49m\u001b[43m*\u001b[49m\u001b[43m*\u001b[49m\u001b[43mkwargs\u001b[49m\u001b[43m)\u001b[49m\n",
            "\u001b[36mFile \u001b[39m\u001b[32mc:\\Users\\User\\OneDrive\\Dokumenty\\Przetwarzanie Obrazów Cyfrowych\\venv\\Lib\\site-packages\\matplotlib_inline\\backend_inline.py:90\u001b[39m, in \u001b[36mshow\u001b[39m\u001b[34m(close, block)\u001b[39m\n\u001b[32m     88\u001b[39m \u001b[38;5;28;01mtry\u001b[39;00m:\n\u001b[32m     89\u001b[39m     \u001b[38;5;28;01mfor\u001b[39;00m figure_manager \u001b[38;5;129;01min\u001b[39;00m Gcf.get_all_fig_managers():\n\u001b[32m---> \u001b[39m\u001b[32m90\u001b[39m         \u001b[43mdisplay\u001b[49m\u001b[43m(\u001b[49m\n\u001b[32m     91\u001b[39m \u001b[43m            \u001b[49m\u001b[43mfigure_manager\u001b[49m\u001b[43m.\u001b[49m\u001b[43mcanvas\u001b[49m\u001b[43m.\u001b[49m\u001b[43mfigure\u001b[49m\u001b[43m,\u001b[49m\n\u001b[32m     92\u001b[39m \u001b[43m            \u001b[49m\u001b[43mmetadata\u001b[49m\u001b[43m=\u001b[49m\u001b[43m_fetch_figure_metadata\u001b[49m\u001b[43m(\u001b[49m\u001b[43mfigure_manager\u001b[49m\u001b[43m.\u001b[49m\u001b[43mcanvas\u001b[49m\u001b[43m.\u001b[49m\u001b[43mfigure\u001b[49m\u001b[43m)\u001b[49m\n\u001b[32m     93\u001b[39m \u001b[43m        \u001b[49m\u001b[43m)\u001b[49m\n\u001b[32m     94\u001b[39m \u001b[38;5;28;01mfinally\u001b[39;00m:\n\u001b[32m     95\u001b[39m     show._to_draw = []\n",
            "\u001b[36mFile \u001b[39m\u001b[32mc:\\Users\\User\\OneDrive\\Dokumenty\\Przetwarzanie Obrazów Cyfrowych\\venv\\Lib\\site-packages\\IPython\\core\\display_functions.py:278\u001b[39m, in \u001b[36mdisplay\u001b[39m\u001b[34m(include, exclude, metadata, transient, display_id, raw, clear, *objs, **kwargs)\u001b[39m\n\u001b[32m    276\u001b[39m     publish_display_data(data=obj, metadata=metadata, **kwargs)\n\u001b[32m    277\u001b[39m \u001b[38;5;28;01melse\u001b[39;00m:\n\u001b[32m--> \u001b[39m\u001b[32m278\u001b[39m     format_dict, md_dict = \u001b[38;5;28;43mformat\u001b[39;49m\u001b[43m(\u001b[49m\u001b[43mobj\u001b[49m\u001b[43m,\u001b[49m\u001b[43m \u001b[49m\u001b[43minclude\u001b[49m\u001b[43m=\u001b[49m\u001b[43minclude\u001b[49m\u001b[43m,\u001b[49m\u001b[43m \u001b[49m\u001b[43mexclude\u001b[49m\u001b[43m=\u001b[49m\u001b[43mexclude\u001b[49m\u001b[43m)\u001b[49m\n\u001b[32m    279\u001b[39m     \u001b[38;5;28;01mif\u001b[39;00m \u001b[38;5;129;01mnot\u001b[39;00m format_dict:\n\u001b[32m    280\u001b[39m         \u001b[38;5;66;03m# nothing to display (e.g. _ipython_display_ took over)\u001b[39;00m\n\u001b[32m    281\u001b[39m         \u001b[38;5;28;01mcontinue\u001b[39;00m\n",
            "\u001b[36mFile \u001b[39m\u001b[32mc:\\Users\\User\\OneDrive\\Dokumenty\\Przetwarzanie Obrazów Cyfrowych\\venv\\Lib\\site-packages\\IPython\\core\\formatters.py:238\u001b[39m, in \u001b[36mDisplayFormatter.format\u001b[39m\u001b[34m(self, obj, include, exclude)\u001b[39m\n\u001b[32m    236\u001b[39m md = \u001b[38;5;28;01mNone\u001b[39;00m\n\u001b[32m    237\u001b[39m \u001b[38;5;28;01mtry\u001b[39;00m:\n\u001b[32m--> \u001b[39m\u001b[32m238\u001b[39m     data = \u001b[43mformatter\u001b[49m\u001b[43m(\u001b[49m\u001b[43mobj\u001b[49m\u001b[43m)\u001b[49m\n\u001b[32m    239\u001b[39m \u001b[38;5;28;01mexcept\u001b[39;00m:\n\u001b[32m    240\u001b[39m     \u001b[38;5;66;03m# FIXME: log the exception\u001b[39;00m\n\u001b[32m    241\u001b[39m     \u001b[38;5;28;01mraise\u001b[39;00m\n",
            "\u001b[36mFile \u001b[39m\u001b[32mc:\\Users\\User\\OneDrive\\Dokumenty\\Przetwarzanie Obrazów Cyfrowych\\venv\\Lib\\site-packages\\decorator.py:235\u001b[39m, in \u001b[36mdecorate.<locals>.fun\u001b[39m\u001b[34m(*args, **kw)\u001b[39m\n\u001b[32m    233\u001b[39m \u001b[38;5;28;01mif\u001b[39;00m \u001b[38;5;129;01mnot\u001b[39;00m kwsyntax:\n\u001b[32m    234\u001b[39m     args, kw = fix(args, kw, sig)\n\u001b[32m--> \u001b[39m\u001b[32m235\u001b[39m \u001b[38;5;28;01mreturn\u001b[39;00m \u001b[43mcaller\u001b[49m\u001b[43m(\u001b[49m\u001b[43mfunc\u001b[49m\u001b[43m,\u001b[49m\u001b[43m \u001b[49m\u001b[43m*\u001b[49m\u001b[43m(\u001b[49m\u001b[43mextras\u001b[49m\u001b[43m \u001b[49m\u001b[43m+\u001b[49m\u001b[43m \u001b[49m\u001b[43margs\u001b[49m\u001b[43m)\u001b[49m\u001b[43m,\u001b[49m\u001b[43m \u001b[49m\u001b[43m*\u001b[49m\u001b[43m*\u001b[49m\u001b[43mkw\u001b[49m\u001b[43m)\u001b[49m\n",
            "\u001b[36mFile \u001b[39m\u001b[32mc:\\Users\\User\\OneDrive\\Dokumenty\\Przetwarzanie Obrazów Cyfrowych\\venv\\Lib\\site-packages\\IPython\\core\\formatters.py:282\u001b[39m, in \u001b[36mcatch_format_error\u001b[39m\u001b[34m(method, self, *args, **kwargs)\u001b[39m\n\u001b[32m    280\u001b[39m \u001b[38;5;250m\u001b[39m\u001b[33;03m\"\"\"show traceback on failed format call\"\"\"\u001b[39;00m\n\u001b[32m    281\u001b[39m \u001b[38;5;28;01mtry\u001b[39;00m:\n\u001b[32m--> \u001b[39m\u001b[32m282\u001b[39m     r = \u001b[43mmethod\u001b[49m\u001b[43m(\u001b[49m\u001b[38;5;28;43mself\u001b[39;49m\u001b[43m,\u001b[49m\u001b[43m \u001b[49m\u001b[43m*\u001b[49m\u001b[43margs\u001b[49m\u001b[43m,\u001b[49m\u001b[43m \u001b[49m\u001b[43m*\u001b[49m\u001b[43m*\u001b[49m\u001b[43mkwargs\u001b[49m\u001b[43m)\u001b[49m\n\u001b[32m    283\u001b[39m \u001b[38;5;28;01mexcept\u001b[39;00m \u001b[38;5;167;01mNotImplementedError\u001b[39;00m:\n\u001b[32m    284\u001b[39m     \u001b[38;5;66;03m# don't warn on NotImplementedErrors\u001b[39;00m\n\u001b[32m    285\u001b[39m     \u001b[38;5;28;01mreturn\u001b[39;00m \u001b[38;5;28mself\u001b[39m._check_return(\u001b[38;5;28;01mNone\u001b[39;00m, args[\u001b[32m0\u001b[39m])\n",
            "\u001b[36mFile \u001b[39m\u001b[32mc:\\Users\\User\\OneDrive\\Dokumenty\\Przetwarzanie Obrazów Cyfrowych\\venv\\Lib\\site-packages\\IPython\\core\\formatters.py:402\u001b[39m, in \u001b[36mBaseFormatter.__call__\u001b[39m\u001b[34m(self, obj)\u001b[39m\n\u001b[32m    400\u001b[39m     \u001b[38;5;28;01mpass\u001b[39;00m\n\u001b[32m    401\u001b[39m \u001b[38;5;28;01melse\u001b[39;00m:\n\u001b[32m--> \u001b[39m\u001b[32m402\u001b[39m     \u001b[38;5;28;01mreturn\u001b[39;00m \u001b[43mprinter\u001b[49m\u001b[43m(\u001b[49m\u001b[43mobj\u001b[49m\u001b[43m)\u001b[49m\n\u001b[32m    403\u001b[39m \u001b[38;5;66;03m# Finally look for special method names\u001b[39;00m\n\u001b[32m    404\u001b[39m method = get_real_method(obj, \u001b[38;5;28mself\u001b[39m.print_method)\n",
            "\u001b[36mFile \u001b[39m\u001b[32mc:\\Users\\User\\OneDrive\\Dokumenty\\Przetwarzanie Obrazów Cyfrowych\\venv\\Lib\\site-packages\\IPython\\core\\pylabtools.py:170\u001b[39m, in \u001b[36mprint_figure\u001b[39m\u001b[34m(fig, fmt, bbox_inches, base64, **kwargs)\u001b[39m\n\u001b[32m    167\u001b[39m     \u001b[38;5;28;01mfrom\u001b[39;00m\u001b[38;5;250m \u001b[39m\u001b[34;01mmatplotlib\u001b[39;00m\u001b[34;01m.\u001b[39;00m\u001b[34;01mbackend_bases\u001b[39;00m\u001b[38;5;250m \u001b[39m\u001b[38;5;28;01mimport\u001b[39;00m FigureCanvasBase\n\u001b[32m    168\u001b[39m     FigureCanvasBase(fig)\n\u001b[32m--> \u001b[39m\u001b[32m170\u001b[39m \u001b[43mfig\u001b[49m\u001b[43m.\u001b[49m\u001b[43mcanvas\u001b[49m\u001b[43m.\u001b[49m\u001b[43mprint_figure\u001b[49m\u001b[43m(\u001b[49m\u001b[43mbytes_io\u001b[49m\u001b[43m,\u001b[49m\u001b[43m \u001b[49m\u001b[43m*\u001b[49m\u001b[43m*\u001b[49m\u001b[43mkw\u001b[49m\u001b[43m)\u001b[49m\n\u001b[32m    171\u001b[39m data = bytes_io.getvalue()\n\u001b[32m    172\u001b[39m \u001b[38;5;28;01mif\u001b[39;00m fmt == \u001b[33m'\u001b[39m\u001b[33msvg\u001b[39m\u001b[33m'\u001b[39m:\n",
            "\u001b[36mFile \u001b[39m\u001b[32mc:\\Users\\User\\OneDrive\\Dokumenty\\Przetwarzanie Obrazów Cyfrowych\\venv\\Lib\\site-packages\\matplotlib\\backend_bases.py:2157\u001b[39m, in \u001b[36mFigureCanvasBase.print_figure\u001b[39m\u001b[34m(self, filename, dpi, facecolor, edgecolor, orientation, format, bbox_inches, pad_inches, bbox_extra_artists, backend, **kwargs)\u001b[39m\n\u001b[32m   2154\u001b[39m     \u001b[38;5;66;03m# we do this instead of `self.figure.draw_without_rendering`\u001b[39;00m\n\u001b[32m   2155\u001b[39m     \u001b[38;5;66;03m# so that we can inject the orientation\u001b[39;00m\n\u001b[32m   2156\u001b[39m     \u001b[38;5;28;01mwith\u001b[39;00m \u001b[38;5;28mgetattr\u001b[39m(renderer, \u001b[33m\"\u001b[39m\u001b[33m_draw_disabled\u001b[39m\u001b[33m\"\u001b[39m, nullcontext)():\n\u001b[32m-> \u001b[39m\u001b[32m2157\u001b[39m         \u001b[38;5;28;43mself\u001b[39;49m\u001b[43m.\u001b[49m\u001b[43mfigure\u001b[49m\u001b[43m.\u001b[49m\u001b[43mdraw\u001b[49m\u001b[43m(\u001b[49m\u001b[43mrenderer\u001b[49m\u001b[43m)\u001b[49m\n\u001b[32m   2158\u001b[39m \u001b[38;5;28;01mif\u001b[39;00m bbox_inches:\n\u001b[32m   2159\u001b[39m     \u001b[38;5;28;01mif\u001b[39;00m bbox_inches == \u001b[33m\"\u001b[39m\u001b[33mtight\u001b[39m\u001b[33m\"\u001b[39m:\n",
            "\u001b[36mFile \u001b[39m\u001b[32mc:\\Users\\User\\OneDrive\\Dokumenty\\Przetwarzanie Obrazów Cyfrowych\\venv\\Lib\\site-packages\\matplotlib\\artist.py:94\u001b[39m, in \u001b[36m_finalize_rasterization.<locals>.draw_wrapper\u001b[39m\u001b[34m(artist, renderer, *args, **kwargs)\u001b[39m\n\u001b[32m     92\u001b[39m \u001b[38;5;129m@wraps\u001b[39m(draw)\n\u001b[32m     93\u001b[39m \u001b[38;5;28;01mdef\u001b[39;00m\u001b[38;5;250m \u001b[39m\u001b[34mdraw_wrapper\u001b[39m(artist, renderer, *args, **kwargs):\n\u001b[32m---> \u001b[39m\u001b[32m94\u001b[39m     result = \u001b[43mdraw\u001b[49m\u001b[43m(\u001b[49m\u001b[43martist\u001b[49m\u001b[43m,\u001b[49m\u001b[43m \u001b[49m\u001b[43mrenderer\u001b[49m\u001b[43m,\u001b[49m\u001b[43m \u001b[49m\u001b[43m*\u001b[49m\u001b[43margs\u001b[49m\u001b[43m,\u001b[49m\u001b[43m \u001b[49m\u001b[43m*\u001b[49m\u001b[43m*\u001b[49m\u001b[43mkwargs\u001b[49m\u001b[43m)\u001b[49m\n\u001b[32m     95\u001b[39m     \u001b[38;5;28;01mif\u001b[39;00m renderer._rasterizing:\n\u001b[32m     96\u001b[39m         renderer.stop_rasterizing()\n",
            "\u001b[36mFile \u001b[39m\u001b[32mc:\\Users\\User\\OneDrive\\Dokumenty\\Przetwarzanie Obrazów Cyfrowych\\venv\\Lib\\site-packages\\matplotlib\\artist.py:71\u001b[39m, in \u001b[36mallow_rasterization.<locals>.draw_wrapper\u001b[39m\u001b[34m(artist, renderer)\u001b[39m\n\u001b[32m     68\u001b[39m     \u001b[38;5;28;01mif\u001b[39;00m artist.get_agg_filter() \u001b[38;5;129;01mis\u001b[39;00m \u001b[38;5;129;01mnot\u001b[39;00m \u001b[38;5;28;01mNone\u001b[39;00m:\n\u001b[32m     69\u001b[39m         renderer.start_filter()\n\u001b[32m---> \u001b[39m\u001b[32m71\u001b[39m     \u001b[38;5;28;01mreturn\u001b[39;00m \u001b[43mdraw\u001b[49m\u001b[43m(\u001b[49m\u001b[43martist\u001b[49m\u001b[43m,\u001b[49m\u001b[43m \u001b[49m\u001b[43mrenderer\u001b[49m\u001b[43m)\u001b[49m\n\u001b[32m     72\u001b[39m \u001b[38;5;28;01mfinally\u001b[39;00m:\n\u001b[32m     73\u001b[39m     \u001b[38;5;28;01mif\u001b[39;00m artist.get_agg_filter() \u001b[38;5;129;01mis\u001b[39;00m \u001b[38;5;129;01mnot\u001b[39;00m \u001b[38;5;28;01mNone\u001b[39;00m:\n",
            "\u001b[36mFile \u001b[39m\u001b[32mc:\\Users\\User\\OneDrive\\Dokumenty\\Przetwarzanie Obrazów Cyfrowych\\venv\\Lib\\site-packages\\matplotlib\\figure.py:3257\u001b[39m, in \u001b[36mFigure.draw\u001b[39m\u001b[34m(self, renderer)\u001b[39m\n\u001b[32m   3254\u001b[39m             \u001b[38;5;66;03m# ValueError can occur when resizing a window.\u001b[39;00m\n\u001b[32m   3256\u001b[39m     \u001b[38;5;28mself\u001b[39m.patch.draw(renderer)\n\u001b[32m-> \u001b[39m\u001b[32m3257\u001b[39m     \u001b[43mmimage\u001b[49m\u001b[43m.\u001b[49m\u001b[43m_draw_list_compositing_images\u001b[49m\u001b[43m(\u001b[49m\n\u001b[32m   3258\u001b[39m \u001b[43m        \u001b[49m\u001b[43mrenderer\u001b[49m\u001b[43m,\u001b[49m\u001b[43m \u001b[49m\u001b[38;5;28;43mself\u001b[39;49m\u001b[43m,\u001b[49m\u001b[43m \u001b[49m\u001b[43martists\u001b[49m\u001b[43m,\u001b[49m\u001b[43m \u001b[49m\u001b[38;5;28;43mself\u001b[39;49m\u001b[43m.\u001b[49m\u001b[43msuppressComposite\u001b[49m\u001b[43m)\u001b[49m\n\u001b[32m   3260\u001b[39m     renderer.close_group(\u001b[33m'\u001b[39m\u001b[33mfigure\u001b[39m\u001b[33m'\u001b[39m)\n\u001b[32m   3261\u001b[39m \u001b[38;5;28;01mfinally\u001b[39;00m:\n",
            "\u001b[36mFile \u001b[39m\u001b[32mc:\\Users\\User\\OneDrive\\Dokumenty\\Przetwarzanie Obrazów Cyfrowych\\venv\\Lib\\site-packages\\matplotlib\\image.py:134\u001b[39m, in \u001b[36m_draw_list_compositing_images\u001b[39m\u001b[34m(renderer, parent, artists, suppress_composite)\u001b[39m\n\u001b[32m    132\u001b[39m \u001b[38;5;28;01mif\u001b[39;00m not_composite \u001b[38;5;129;01mor\u001b[39;00m \u001b[38;5;129;01mnot\u001b[39;00m has_images:\n\u001b[32m    133\u001b[39m     \u001b[38;5;28;01mfor\u001b[39;00m a \u001b[38;5;129;01min\u001b[39;00m artists:\n\u001b[32m--> \u001b[39m\u001b[32m134\u001b[39m         \u001b[43ma\u001b[49m\u001b[43m.\u001b[49m\u001b[43mdraw\u001b[49m\u001b[43m(\u001b[49m\u001b[43mrenderer\u001b[49m\u001b[43m)\u001b[49m\n\u001b[32m    135\u001b[39m \u001b[38;5;28;01melse\u001b[39;00m:\n\u001b[32m    136\u001b[39m     \u001b[38;5;66;03m# Composite any adjacent images together\u001b[39;00m\n\u001b[32m    137\u001b[39m     image_group = []\n",
            "\u001b[36mFile \u001b[39m\u001b[32mc:\\Users\\User\\OneDrive\\Dokumenty\\Przetwarzanie Obrazów Cyfrowych\\venv\\Lib\\site-packages\\matplotlib\\artist.py:71\u001b[39m, in \u001b[36mallow_rasterization.<locals>.draw_wrapper\u001b[39m\u001b[34m(artist, renderer)\u001b[39m\n\u001b[32m     68\u001b[39m     \u001b[38;5;28;01mif\u001b[39;00m artist.get_agg_filter() \u001b[38;5;129;01mis\u001b[39;00m \u001b[38;5;129;01mnot\u001b[39;00m \u001b[38;5;28;01mNone\u001b[39;00m:\n\u001b[32m     69\u001b[39m         renderer.start_filter()\n\u001b[32m---> \u001b[39m\u001b[32m71\u001b[39m     \u001b[38;5;28;01mreturn\u001b[39;00m \u001b[43mdraw\u001b[49m\u001b[43m(\u001b[49m\u001b[43martist\u001b[49m\u001b[43m,\u001b[49m\u001b[43m \u001b[49m\u001b[43mrenderer\u001b[49m\u001b[43m)\u001b[49m\n\u001b[32m     72\u001b[39m \u001b[38;5;28;01mfinally\u001b[39;00m:\n\u001b[32m     73\u001b[39m     \u001b[38;5;28;01mif\u001b[39;00m artist.get_agg_filter() \u001b[38;5;129;01mis\u001b[39;00m \u001b[38;5;129;01mnot\u001b[39;00m \u001b[38;5;28;01mNone\u001b[39;00m:\n",
            "\u001b[36mFile \u001b[39m\u001b[32mc:\\Users\\User\\OneDrive\\Dokumenty\\Przetwarzanie Obrazów Cyfrowych\\venv\\Lib\\site-packages\\mpl_toolkits\\mplot3d\\axes3d.py:445\u001b[39m, in \u001b[36mAxes3D.draw\u001b[39m\u001b[34m(self, renderer)\u001b[39m\n\u001b[32m    441\u001b[39m zorder_offset = \u001b[38;5;28mmax\u001b[39m(axis.get_zorder()\n\u001b[32m    442\u001b[39m                     \u001b[38;5;28;01mfor\u001b[39;00m axis \u001b[38;5;129;01min\u001b[39;00m \u001b[38;5;28mself\u001b[39m._axis_map.values()) + \u001b[32m1\u001b[39m\n\u001b[32m    443\u001b[39m collection_zorder = patch_zorder = zorder_offset\n\u001b[32m--> \u001b[39m\u001b[32m445\u001b[39m \u001b[38;5;28;01mfor\u001b[39;00m artist \u001b[38;5;129;01min\u001b[39;00m \u001b[38;5;28;43msorted\u001b[39;49m\u001b[43m(\u001b[49m\u001b[43mcollections_and_patches\u001b[49m\u001b[43m,\u001b[49m\n\u001b[32m    446\u001b[39m \u001b[43m                     \u001b[49m\u001b[43mkey\u001b[49m\u001b[43m=\u001b[49m\u001b[38;5;28;43;01mlambda\u001b[39;49;00m\u001b[43m \u001b[49m\u001b[43martist\u001b[49m\u001b[43m:\u001b[49m\u001b[43m \u001b[49m\u001b[43martist\u001b[49m\u001b[43m.\u001b[49m\u001b[43mdo_3d_projection\u001b[49m\u001b[43m(\u001b[49m\u001b[43m)\u001b[49m\u001b[43m,\u001b[49m\n\u001b[32m    447\u001b[39m \u001b[43m                     \u001b[49m\u001b[43mreverse\u001b[49m\u001b[43m=\u001b[49m\u001b[38;5;28;43;01mTrue\u001b[39;49;00m\u001b[43m)\u001b[49m:\n\u001b[32m    448\u001b[39m     \u001b[38;5;28;01mif\u001b[39;00m \u001b[38;5;28misinstance\u001b[39m(artist, mcoll.Collection):\n\u001b[32m    449\u001b[39m         artist.zorder = collection_zorder\n",
            "\u001b[36mFile \u001b[39m\u001b[32mc:\\Users\\User\\OneDrive\\Dokumenty\\Przetwarzanie Obrazów Cyfrowych\\venv\\Lib\\site-packages\\mpl_toolkits\\mplot3d\\axes3d.py:446\u001b[39m, in \u001b[36mAxes3D.draw.<locals>.<lambda>\u001b[39m\u001b[34m(artist)\u001b[39m\n\u001b[32m    441\u001b[39m zorder_offset = \u001b[38;5;28mmax\u001b[39m(axis.get_zorder()\n\u001b[32m    442\u001b[39m                     \u001b[38;5;28;01mfor\u001b[39;00m axis \u001b[38;5;129;01min\u001b[39;00m \u001b[38;5;28mself\u001b[39m._axis_map.values()) + \u001b[32m1\u001b[39m\n\u001b[32m    443\u001b[39m collection_zorder = patch_zorder = zorder_offset\n\u001b[32m    445\u001b[39m \u001b[38;5;28;01mfor\u001b[39;00m artist \u001b[38;5;129;01min\u001b[39;00m \u001b[38;5;28msorted\u001b[39m(collections_and_patches,\n\u001b[32m--> \u001b[39m\u001b[32m446\u001b[39m                      key=\u001b[38;5;28;01mlambda\u001b[39;00m artist: \u001b[43martist\u001b[49m\u001b[43m.\u001b[49m\u001b[43mdo_3d_projection\u001b[49m\u001b[43m(\u001b[49m\u001b[43m)\u001b[49m,\n\u001b[32m    447\u001b[39m                      reverse=\u001b[38;5;28;01mTrue\u001b[39;00m):\n\u001b[32m    448\u001b[39m     \u001b[38;5;28;01mif\u001b[39;00m \u001b[38;5;28misinstance\u001b[39m(artist, mcoll.Collection):\n\u001b[32m    449\u001b[39m         artist.zorder = collection_zorder\n",
            "\u001b[36mFile \u001b[39m\u001b[32mc:\\Users\\User\\OneDrive\\Dokumenty\\Przetwarzanie Obrazów Cyfrowych\\venv\\Lib\\site-packages\\mpl_toolkits\\mplot3d\\art3d.py:1161\u001b[39m, in \u001b[36mPoly3DCollection.do_3d_projection\u001b[39m\u001b[34m(self)\u001b[39m\n\u001b[32m   1157\u001b[39m         cedge = cedge.repeat(\u001b[38;5;28mlen\u001b[39m(xyzlist), axis=\u001b[32m0\u001b[39m)\n\u001b[32m   1159\u001b[39m \u001b[38;5;28;01mif\u001b[39;00m xyzlist:\n\u001b[32m   1160\u001b[39m     \u001b[38;5;66;03m# sort by depth (furthest drawn first)\u001b[39;00m\n\u001b[32m-> \u001b[39m\u001b[32m1161\u001b[39m     z_segments_2d = \u001b[38;5;28;43msorted\u001b[39;49m\u001b[43m(\u001b[49m\n\u001b[32m   1162\u001b[39m \u001b[43m        \u001b[49m\u001b[43m(\u001b[49m\u001b[43m(\u001b[49m\u001b[38;5;28;43mself\u001b[39;49m\u001b[43m.\u001b[49m\u001b[43m_zsortfunc\u001b[49m\u001b[43m(\u001b[49m\u001b[43mzs\u001b[49m\u001b[43m.\u001b[49m\u001b[43mdata\u001b[49m\u001b[43m)\u001b[49m\u001b[43m,\u001b[49m\u001b[43m \u001b[49m\u001b[43mnp\u001b[49m\u001b[43m.\u001b[49m\u001b[43mma\u001b[49m\u001b[43m.\u001b[49m\u001b[43mcolumn_stack\u001b[49m\u001b[43m(\u001b[49m\u001b[43m[\u001b[49m\u001b[43mxs\u001b[49m\u001b[43m,\u001b[49m\u001b[43m \u001b[49m\u001b[43mys\u001b[49m\u001b[43m]\u001b[49m\u001b[43m)\u001b[49m\u001b[43m,\u001b[49m\u001b[43m \u001b[49m\u001b[43mfc\u001b[49m\u001b[43m,\u001b[49m\u001b[43m \u001b[49m\u001b[43mec\u001b[49m\u001b[43m,\u001b[49m\u001b[43m \u001b[49m\u001b[43midx\u001b[49m\u001b[43m)\u001b[49m\n\u001b[32m   1163\u001b[39m \u001b[43m         \u001b[49m\u001b[38;5;28;43;01mfor\u001b[39;49;00m\u001b[43m \u001b[49m\u001b[43midx\u001b[49m\u001b[43m,\u001b[49m\u001b[43m \u001b[49m\u001b[43m(\u001b[49m\u001b[43m(\u001b[49m\u001b[43mxs\u001b[49m\u001b[43m,\u001b[49m\u001b[43m \u001b[49m\u001b[43mys\u001b[49m\u001b[43m,\u001b[49m\u001b[43m \u001b[49m\u001b[43mzs\u001b[49m\u001b[43m)\u001b[49m\u001b[43m,\u001b[49m\u001b[43m \u001b[49m\u001b[43mfc\u001b[49m\u001b[43m,\u001b[49m\u001b[43m \u001b[49m\u001b[43mec\u001b[49m\u001b[43m)\u001b[49m\n\u001b[32m   1164\u001b[39m \u001b[43m         \u001b[49m\u001b[38;5;129;43;01min\u001b[39;49;00m\u001b[43m \u001b[49m\u001b[38;5;28;43menumerate\u001b[39;49m\u001b[43m(\u001b[49m\u001b[38;5;28;43mzip\u001b[39;49m\u001b[43m(\u001b[49m\u001b[43mxyzlist\u001b[49m\u001b[43m,\u001b[49m\u001b[43m \u001b[49m\u001b[43mcface\u001b[49m\u001b[43m,\u001b[49m\u001b[43m \u001b[49m\u001b[43mcedge\u001b[49m\u001b[43m)\u001b[49m\u001b[43m)\u001b[49m\u001b[43m)\u001b[49m\u001b[43m,\u001b[49m\n\u001b[32m   1165\u001b[39m \u001b[43m        \u001b[49m\u001b[43mkey\u001b[49m\u001b[43m=\u001b[49m\u001b[38;5;28;43;01mlambda\u001b[39;49;00m\u001b[43m \u001b[49m\u001b[43mx\u001b[49m\u001b[43m:\u001b[49m\u001b[43m \u001b[49m\u001b[43mx\u001b[49m\u001b[43m[\u001b[49m\u001b[32;43m0\u001b[39;49m\u001b[43m]\u001b[49m\u001b[43m,\u001b[49m\u001b[43m \u001b[49m\u001b[43mreverse\u001b[49m\u001b[43m=\u001b[49m\u001b[38;5;28;43;01mTrue\u001b[39;49;00m\u001b[43m)\u001b[49m\n\u001b[32m   1167\u001b[39m     _, segments_2d, \u001b[38;5;28mself\u001b[39m._facecolors2d, \u001b[38;5;28mself\u001b[39m._edgecolors2d, idxs = \\\n\u001b[32m   1168\u001b[39m         \u001b[38;5;28mzip\u001b[39m(*z_segments_2d)\n\u001b[32m   1169\u001b[39m \u001b[38;5;28;01melse\u001b[39;00m:\n",
            "\u001b[36mFile \u001b[39m\u001b[32mc:\\Users\\User\\OneDrive\\Dokumenty\\Przetwarzanie Obrazów Cyfrowych\\venv\\Lib\\site-packages\\mpl_toolkits\\mplot3d\\art3d.py:1162\u001b[39m, in \u001b[36m<genexpr>\u001b[39m\u001b[34m(.0)\u001b[39m\n\u001b[32m   1157\u001b[39m         cedge = cedge.repeat(\u001b[38;5;28mlen\u001b[39m(xyzlist), axis=\u001b[32m0\u001b[39m)\n\u001b[32m   1159\u001b[39m \u001b[38;5;28;01mif\u001b[39;00m xyzlist:\n\u001b[32m   1160\u001b[39m     \u001b[38;5;66;03m# sort by depth (furthest drawn first)\u001b[39;00m\n\u001b[32m   1161\u001b[39m     z_segments_2d = \u001b[38;5;28msorted\u001b[39m(\n\u001b[32m-> \u001b[39m\u001b[32m1162\u001b[39m         ((\u001b[38;5;28;43mself\u001b[39;49m\u001b[43m.\u001b[49m\u001b[43m_zsortfunc\u001b[49m\u001b[43m(\u001b[49m\u001b[43mzs\u001b[49m\u001b[43m.\u001b[49m\u001b[43mdata\u001b[49m\u001b[43m)\u001b[49m, np.ma.column_stack([xs, ys]), fc, ec, idx)\n\u001b[32m   1163\u001b[39m          \u001b[38;5;28;01mfor\u001b[39;00m idx, ((xs, ys, zs), fc, ec)\n\u001b[32m   1164\u001b[39m          \u001b[38;5;129;01min\u001b[39;00m \u001b[38;5;28menumerate\u001b[39m(\u001b[38;5;28mzip\u001b[39m(xyzlist, cface, cedge))),\n\u001b[32m   1165\u001b[39m         key=\u001b[38;5;28;01mlambda\u001b[39;00m x: x[\u001b[32m0\u001b[39m], reverse=\u001b[38;5;28;01mTrue\u001b[39;00m)\n\u001b[32m   1167\u001b[39m     _, segments_2d, \u001b[38;5;28mself\u001b[39m._facecolors2d, \u001b[38;5;28mself\u001b[39m._edgecolors2d, idxs = \\\n\u001b[32m   1168\u001b[39m         \u001b[38;5;28mzip\u001b[39m(*z_segments_2d)\n\u001b[32m   1169\u001b[39m \u001b[38;5;28;01melse\u001b[39;00m:\n",
            "\u001b[36mFile \u001b[39m\u001b[32mc:\\Users\\User\\OneDrive\\Dokumenty\\Przetwarzanie Obrazów Cyfrowych\\venv\\Lib\\site-packages\\numpy\\lib\\_function_base_impl.py:552\u001b[39m, in \u001b[36maverage\u001b[39m\u001b[34m(a, axis, weights, returned, keepdims)\u001b[39m\n\u001b[32m    549\u001b[39m     keepdims_kw = {\u001b[33m'\u001b[39m\u001b[33mkeepdims\u001b[39m\u001b[33m'\u001b[39m: keepdims}\n\u001b[32m    551\u001b[39m \u001b[38;5;28;01mif\u001b[39;00m weights \u001b[38;5;129;01mis\u001b[39;00m \u001b[38;5;28;01mNone\u001b[39;00m:\n\u001b[32m--> \u001b[39m\u001b[32m552\u001b[39m     avg = \u001b[43ma\u001b[49m\u001b[43m.\u001b[49m\u001b[43mmean\u001b[49m\u001b[43m(\u001b[49m\u001b[43maxis\u001b[49m\u001b[43m,\u001b[49m\u001b[43m \u001b[49m\u001b[43m*\u001b[49m\u001b[43m*\u001b[49m\u001b[43mkeepdims_kw\u001b[49m\u001b[43m)\u001b[49m\n\u001b[32m    553\u001b[39m     avg_as_array = np.asanyarray(avg)\n\u001b[32m    554\u001b[39m     scl = avg_as_array.dtype.type(a.size/avg_as_array.size)\n",
            "\u001b[36mFile \u001b[39m\u001b[32mc:\\Users\\User\\OneDrive\\Dokumenty\\Przetwarzanie Obrazów Cyfrowych\\venv\\Lib\\site-packages\\numpy\\_core\\_methods.py:123\u001b[39m, in \u001b[36m_mean\u001b[39m\u001b[34m(a, axis, dtype, out, keepdims, where)\u001b[39m\n\u001b[32m    119\u001b[39m arr = asanyarray(a)\n\u001b[32m    121\u001b[39m is_float16_result = \u001b[38;5;28;01mFalse\u001b[39;00m\n\u001b[32m--> \u001b[39m\u001b[32m123\u001b[39m rcount = \u001b[43m_count_reduce_items\u001b[49m\u001b[43m(\u001b[49m\u001b[43marr\u001b[49m\u001b[43m,\u001b[49m\u001b[43m \u001b[49m\u001b[43maxis\u001b[49m\u001b[43m,\u001b[49m\u001b[43m \u001b[49m\u001b[43mkeepdims\u001b[49m\u001b[43m=\u001b[49m\u001b[43mkeepdims\u001b[49m\u001b[43m,\u001b[49m\u001b[43m \u001b[49m\u001b[43mwhere\u001b[49m\u001b[43m=\u001b[49m\u001b[43mwhere\u001b[49m\u001b[43m)\u001b[49m\n\u001b[32m    124\u001b[39m \u001b[38;5;28;01mif\u001b[39;00m rcount == \u001b[32m0\u001b[39m \u001b[38;5;28;01mif\u001b[39;00m where \u001b[38;5;129;01mis\u001b[39;00m \u001b[38;5;28;01mTrue\u001b[39;00m \u001b[38;5;28;01melse\u001b[39;00m umr_any(rcount == \u001b[32m0\u001b[39m, axis=\u001b[38;5;28;01mNone\u001b[39;00m):\n\u001b[32m    125\u001b[39m     warnings.warn(\u001b[33m\"\u001b[39m\u001b[33mMean of empty slice.\u001b[39m\u001b[33m\"\u001b[39m, \u001b[38;5;167;01mRuntimeWarning\u001b[39;00m, stacklevel=\u001b[32m2\u001b[39m)\n",
            "\u001b[36mFile \u001b[39m\u001b[32mc:\\Users\\User\\OneDrive\\Dokumenty\\Przetwarzanie Obrazów Cyfrowych\\venv\\Lib\\site-packages\\numpy\\_core\\_methods.py:86\u001b[39m, in \u001b[36m_count_reduce_items\u001b[39m\u001b[34m(arr, axis, keepdims, where)\u001b[39m\n\u001b[32m     84\u001b[39m     items = \u001b[32m1\u001b[39m\n\u001b[32m     85\u001b[39m     \u001b[38;5;28;01mfor\u001b[39;00m ax \u001b[38;5;129;01min\u001b[39;00m axis:\n\u001b[32m---> \u001b[39m\u001b[32m86\u001b[39m         items *= arr.shape[mu.normalize_axis_index(ax, arr.ndim)]\n\u001b[32m     87\u001b[39m     items = nt.intp(items)\n\u001b[32m     88\u001b[39m \u001b[38;5;28;01melse\u001b[39;00m:\n\u001b[32m     89\u001b[39m     \u001b[38;5;66;03m# TODO: Optimize case when `where` is broadcast along a non-reduction\u001b[39;00m\n\u001b[32m     90\u001b[39m     \u001b[38;5;66;03m# axis and full sum is more excessive than needed.\u001b[39;00m\n\u001b[32m     91\u001b[39m \n\u001b[32m     92\u001b[39m     \u001b[38;5;66;03m# guarded to protect circular imports\u001b[39;00m\n",
            "\u001b[31mKeyboardInterrupt\u001b[39m: "
          ]
        }
      ],
      "source": [
        "import numpy as np\n",
        "\n",
        "IG = image_gray\n",
        "\n",
        "# create grid\n",
        "xx, yy = np.mgrid[0:IG.shape[0], 0:IG.shape[1]]\n",
        "\n",
        "# create the figure\n",
        "fig = plt.figure()\n",
        "ax = fig.add_subplot(projection = '3d')\n",
        "ax.plot_surface(xx, yy, IG ,rstride=1, cstride=1, cmap=plt.get_cmap('gray'),\n",
        "        linewidth=0)\n",
        "\n",
        "# show it\n",
        "plt.show()"
      ]
    },
    {
      "cell_type": "markdown",
      "metadata": {
        "id": "Gbw8EhryERJn",
        "pycharm": {
          "name": "#%% md\n"
        }
      },
      "source": [
        "Komentarz:\n",
        "- używamy biblioteki do obliczeń *numpy*,\n",
        "- tworzymy siatkę punktów o rozmiarach takich jak obraz (*shape*),\n",
        "- rysujemy wykres 3D\n"
      ]
    },
    {
      "cell_type": "markdown",
      "metadata": {
        "id": "-BUuROqKERJn"
      },
      "source": [
        "Podczas przetwarzania i analizy obrazów przydatne bywają \"przekroje\" przez obraz, czyli wartości funkcji $L(x,y)$ w przypadku gdy $x$ lub $y$ jest ustalone.\n",
        "Wykonaj jeden wybrany przekrój w $x$ i $y$:\n",
        "- po pierwsze należy pobrać dany wiersz lub kolumnę - np. `S = IG[10,:]` (tu jedenasty wiersz),\n",
        "- po drugie stworzyć wykres złożony z dwóch subwykresów: `f, (ax1,ax2) = plt.subplots(1,2)`\n",
        "- dla każdego z nich ustawić tytuł (np. `ax1.set_title('XXX')`) oraz treść `ax1.plot(S)`,\n",
        "- na koniec całość wyświetlić `plt.show()`.\n",
        "\n",
        "\n",
        "\n",
        "\n"
      ]
    },
    {
      "cell_type": "code",
      "execution_count": null,
      "metadata": {
        "id": "U9MGTP9kERJn"
      },
      "outputs": [],
      "source": [
        "row_eleventh = image_gray[10,:]\n",
        "\n",
        "fun, (ax1, ax2) = plt.subplots(1, 2, figsize=(16, 8))\n",
        "\n",
        "ax1.set_title('Przekrój przez 11-ty wiersz')\n",
        "ax1.plot(row_eleventh)\n",
        "\n",
        "column_twelve = image_gray[:, 20]\n",
        "ax2.set_title('Przekrój przez 20-tą kolumnę')\n",
        "ax2.plot(column_twelve)\n",
        "\n",
        "plt.show()"
      ]
    },
    {
      "cell_type": "markdown",
      "metadata": {
        "id": "-vW-BZ4KERJn"
      },
      "source": [
        "Obrazy indeksowane składają się z dwóch macierzy - obrazu oraz tzw. mapy kolorów.\n",
        "W macierzy obrazu zapisane są wartości poszczególnych pikseli.\n",
        "Macierz mapy kolorów ma rozmiar $m \\times 3$ ($m$ wierszy, w~każdym 3 wartości - składowe R,G,B).\n",
        "Podczas wyświetlania, na podstawie wartości piksela, odczytywany jest kolor z macierzy mapy kolorów.\n",
        "W ten sposób możliwe staje się \"pokolorowanie\" obrazu w skali szarości (stąd wcześniej szary mandryl był kolorowy).\n",
        "Wykorzystanie pseudokoloru nie wpływa na ilość informacji zawartej na obrazku, pomaga jedynie przedstawić go w bardziej czytelnej (dla człowieka) formie.\n",
        "Przykładowo można uzyskać poprawę kontrastu, co jest ważne przy analizie np. obrazów medycznych.\n",
        "Bardziej obszerny opis i spis dostępnym map można znaleźć w [dokumentacji.](https://matplotlib.org/3.1.0/tutorials/colors/colormaps.html)\n",
        "\n",
        "Wykorzystując dokumentację oraz polecenie `plt.imshow(IG, cmap=plt.get_cmap('XXX'))` proszę wyświetlić obraz madryl w 4 różnych mapach kolorów.\n"
      ]
    },
    {
      "cell_type": "code",
      "execution_count": null,
      "metadata": {
        "id": "JMUuHovtERJn"
      },
      "outputs": [],
      "source": [
        "fig, (ax1, ax2, ax3, ax4) = plt.subplots(1, 4, figsize=(16, 16))\n",
        "\n",
        "ax1.imshow(image_gray, cmap=plt.get_cmap('gray'))\n",
        "ax1.set_title(\"\")\n",
        "ax1.axis('off')\n",
        "\n",
        "ax2.imshow(image_gray, cmap=plt.get_cmap('pink'))\n",
        "ax2.set_title(\"\")\n",
        "ax2.axis('off')\n",
        "\n",
        "ax3.imshow(image_gray, cmap=plt.get_cmap('inferno'))\n",
        "ax3.set_title(\"\")\n",
        "ax3.axis('off')\n",
        "\n",
        "ax4.imshow(image_gray, cmap=plt.get_cmap('turbo'))\n",
        "ax4.set_title(\"\")\n",
        "ax4.axis('off')\n",
        "\n",
        "plt.show()"
      ]
    }
  ],
  "metadata": {
    "colab": {
      "provenance": []
    },
    "kernelspec": {
      "display_name": "venv",
      "language": "python",
      "name": "python3"
    },
    "language_info": {
      "codemirror_mode": {
        "name": "ipython",
        "version": 3
      },
      "file_extension": ".py",
      "mimetype": "text/x-python",
      "name": "python",
      "nbconvert_exporter": "python",
      "pygments_lexer": "ipython3",
      "version": "3.12.8"
    }
  },
  "nbformat": 4,
  "nbformat_minor": 0
}
