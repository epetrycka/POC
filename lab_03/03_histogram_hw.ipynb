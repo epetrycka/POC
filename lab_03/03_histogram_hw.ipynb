{
 "cells": [
  {
   "cell_type": "markdown",
   "metadata": {
    "collapsed": false,
    "id": "4Fbe36eKPM0s"
   },
   "source": [
    "## Zadanie domowe: BBHE i DSIHE\n",
    "\n",
    "W klasycznym wyrównywaniu histogramu HE  po wykonaniu operacji jasność obrazu ulega zmianie.\n",
    "Dało się to zaobserwować podczas przeprowadzonych eksperymentów.\n",
    "Jeśli nie to należy uruchomić skrypt z sekcji A i zwrócić na to uwagę.\n",
    "Średnia jasność dąży do środkowego poziomu szarości.\n",
    "Jest to wada i dlatego klasyczne HE ma ograniczone zastosowanie.\n",
    "\n",
    "Powstało sporo metod, które eliminują to niekorzystne zjawisko.\n",
    "Najprostsze z nich polegają na dekompozycji obrazu wejściowego na dwa podobrazy (wg. pewnego kryterium).\n",
    "Następnie operacja HE wykonywana jest dla tych podobrazów.\n",
    "\n",
    "Dwie znane z literatury metody to:\n",
    "- Bi-Histogram Equalization\n",
    "- DSIHE - Dualistic Sub-Image Histogram Equalization\n",
    "\n",
    "W metodzie BBHE za kryterium podziału przyjmuje się średnią jasność w obrazie.\n",
    "W DSIHE obraz dzieli się na dwa podobrazy o takiej samej liczbie pikseli (jaśniejszych i ciemniejszych).\n",
    "\n",
    "W ramach zadania należy zaimplementować wybraną metodę: BBHE lub DSIHE (ew. obie).\n",
    "\n",
    "1. Wczytaj obraz *jet.bmp* i wylicz jego histogram.\n",
    "2. W kolejnym kroku należy wyznaczyć próg podziału obrazu na dwa podobrazy (*lm*).\n",
    "3. Dla BBHE wyznacz średnią jasność obrazu. Dla DSIHE można wykorzystać histogram skumulowany.\n",
    "Należy znaleźć poziom jasności który znajduje się \"w połowie\" histogramu skumulowanego.\n",
    "W tym celu warto stworzyć tablicę, zawierającą moduł histogramu skumulowanego pomniejszonego o połowę liczby pikseli.\n",
    "Następnie znaleźć minimum - `np.argmin`.\n",
    "4. Dalej należy podzielić histogram oryginalnego obrazu na dwa histogramy *H1* i *H2*.\n",
    "Dla każdego z nich wyliczyć histogram skumulowany ($C_1$ i $C_2$) i wykonać normalizację.\n",
    "Normalizacja polega na podzieleniu każdego histogramu przez jego największy element.\n",
    "5. Na podstawie histogramów skumulowanych należy stworzyć przekształcenie LUT.\n",
    "Należy tak przeskalować $C_1$ i $C_2$, aby uzyskać jednorodne przekształcenie.\n",
    "Tablicę $C_1$ wystarczy pomnożyć przez próg podziału.\n",
    "Tablicę $C_2$ należy przeskalować do przedziału: $<lm+1; 255>$, gdzie $lm$ jest progiem podziału.<br>\n",
    "$C_{1n} = (lm)*C1;$<br>\n",
    "$C_{2n} = lm+1 + (255-lm-1)*C2;$<br>\n",
    "Następnie dwie części tablicy przekodowań należy połączyć.\n",
    "6. Na koniec należy wykonać operację LUT i wyświetlić wynik wyrównywania histogramu.\n",
    "Porównaj wynik operacji BBHE lub DSIHE z klasycznym HE."
   ]
  },
  {
   "cell_type": "code",
   "execution_count": null,
   "metadata": {
    "id": "c2Q0bFkqPM0v",
    "pycharm": {
     "name": "#%% Zadanie domowe - BBHE\n"
    }
   },
   "outputs": [],
   "source": [
    "import cv2\n",
    "import os\n",
    "import requests\n",
    "from matplotlib import pyplot as plt\n",
    "import numpy as np\n",
    "\n",
    "url = 'https://raw.githubusercontent.com/vision-agh/poc_sw/master/03_Histogram/'\n",
    "\n",
    "fileName = 'jet.bmp'\n",
    "if not os.path.exists(fileName) :\n",
    "    r = requests.get(url + fileName, allow_redirects=True)\n",
    "    open(fileName, 'wb').write(r.content)"
   ]
  },
  {
   "cell_type": "code",
   "execution_count": null,
   "metadata": {
    "id": "KPTV1fMpPM0y",
    "pycharm": {
     "name": "#%% Zadanie domowe - DSIHE\n"
    }
   },
   "outputs": [],
   "source": [
    "photo = cv2.imread(\"jet.bmp\", cv2.IMREAD_GRAYSCALE)\n",
    "histogram = cv2.calcHist([photo], [0], None, [256], [0, 255])\n",
    "\n",
    "def transform(lm, photo):\n",
    "    h1 = histogram.copy()\n",
    "    h2 = histogram.copy()\n",
    "    h1[int(lm):] = 0\n",
    "    h2[:int(lm)] = 0\n",
    "    hn1 = h1.cumsum()\n",
    "    hn1 /= max(hn1)\n",
    "    hn1 *= lm\n",
    "    hn2 = h2.cumsum()\n",
    "    hn2 /= max(hn2)\n",
    "    hn2 = lm + 1 + (255 - lm - 1) * hn2\n",
    "    mask = np.concatenate([hn1[:int(lm)], hn2[int(lm):]]).astype('uint8')\n",
    "    photo = cv2.LUT(photo, mask)\n",
    "    return photo\n",
    "\n",
    "lm_bbhe = np.mean(photo)\n",
    "bbhe_photo = transform(lm_bbhe, photo)\n",
    "\n",
    "skumulowany = histogram.cumsum()\n",
    "num = skumulowany[-1]/2\n",
    "lm_dsihe = np.argmin(np.abs(skumulowany - num))\n",
    "dsihe_photo = transform(lm_dsihe, photo)\n",
    "\n",
    "equalized_photo = cv2.equalizeHist(photo)\n",
    "\n",
    "plt.Figure(figsize=(1, 1))\n",
    "plt.plot(histogram, label=\"Histogram\")\n",
    "plt.plot(skumulowany, label=\"Skumulowany\")\n",
    "plt.grid()\n",
    "plt.legend()\n",
    "plt.show()\n",
    "\n",
    "fig, axes = plt.subplots(3, 2)\n",
    "fig.set_size_inches(20, 20)\n",
    "titles = [\"Wyrównanie bbhe\", \"Wyrównanie dsihe\", \"Wyrównanie HE\"]\n",
    "\n",
    "for num, img in enumerate([bbhe_photo, dsihe_photo, equalized_photo]):\n",
    "    axes[num, 0].imshow(img, 'gray', vmin=0, vmax=255)\n",
    "    axes[num, 0].set_title(titles[num])\n",
    "    histogram = cv2.calcHist([img], [0], None, [256], [0, 255])\n",
    "    axes[num, 1].plot(histogram, label=\"Histogram\", color='green')\n",
    "    cumsum = histogram.cumsum()\n",
    "    cumsum = cumsum/max(cumsum) * max(histogram)\n",
    "    axes[num, 1].plot(cumsum)\n",
    "\n",
    "plt.show()"
   ]
  }
 ],
 "metadata": {
  "colab": {
   "provenance": []
  },
  "kernelspec": {
   "display_name": "venv",
   "language": "python",
   "name": "python3"
  },
  "language_info": {
   "codemirror_mode": {
    "name": "ipython",
    "version": 3
   },
   "file_extension": ".py",
   "mimetype": "text/x-python",
   "name": "python",
   "nbconvert_exporter": "python",
   "pygments_lexer": "ipython3",
   "version": "3.12.8"
  }
 },
 "nbformat": 4,
 "nbformat_minor": 0
}
